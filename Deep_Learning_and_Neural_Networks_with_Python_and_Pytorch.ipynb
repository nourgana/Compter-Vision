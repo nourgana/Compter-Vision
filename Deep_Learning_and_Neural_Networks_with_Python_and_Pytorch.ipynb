{
  "nbformat": 4,
  "nbformat_minor": 0,
  "metadata": {
    "colab": {
      "name": "Deep Learning and Neural Networks with Python and Pytorch p.1",
      "provenance": [],
      "collapsed_sections": []
    },
    "kernelspec": {
      "name": "python3",
      "display_name": "Python 3"
    },
    "language_info": {
      "name": "python"
    }
  },
  "cells": [
    {
      "cell_type": "markdown",
      "metadata": {
        "id": "O0vAG2sChSGh"
      },
      "source": [
        "### **Deep learning** with **Python** and **Pytorch** tutorial series, starting from the basics."
      ]
    },
    {
      "cell_type": "markdown",
      "metadata": {
        "id": "f8bNgI7YPw03"
      },
      "source": [
        "###Prep setting"
      ]
    },
    {
      "cell_type": "code",
      "metadata": {
        "id": "TRn7juMVfRhW"
      },
      "source": [
        "import torch"
      ],
      "execution_count": null,
      "outputs": []
    },
    {
      "cell_type": "code",
      "metadata": {
        "colab": {
          "base_uri": "https://localhost:8080/"
        },
        "id": "wjgZk_G_fwDb",
        "outputId": "71240d71-bf7e-4ad8-dd8d-e92cee0c1f92"
      },
      "source": [
        "x = torch.Tensor([5,3])\n",
        "y= torch.Tensor([2,1])\n",
        "\n",
        "print(x*y) #scalar product "
      ],
      "execution_count": null,
      "outputs": [
        {
          "output_type": "stream",
          "name": "stdout",
          "text": [
            "tensor([10.,  3.])\n"
          ]
        }
      ]
    },
    {
      "cell_type": "code",
      "metadata": {
        "colab": {
          "base_uri": "https://localhost:8080/"
        },
        "id": "BkIkJ4zOgI5P",
        "outputId": "78fb731a-e740-4f13-a9f0-6cb33f628732"
      },
      "source": [
        "torch.tensor([[1., -1.], [1., -1.]])"
      ],
      "execution_count": null,
      "outputs": [
        {
          "output_type": "execute_result",
          "data": {
            "text/plain": [
              "tensor([[ 1., -1.],\n",
              "        [ 1., -1.]])"
            ]
          },
          "metadata": {},
          "execution_count": 10
        }
      ]
    },
    {
      "cell_type": "code",
      "metadata": {
        "colab": {
          "base_uri": "https://localhost:8080/"
        },
        "id": "lS9Buk5RgeqA",
        "outputId": "3119bc2d-8548-4997-a1be-002a61f3b164"
      },
      "source": [
        "torch.tensor([[1, 2, 3], [4, 5, 6]])"
      ],
      "execution_count": null,
      "outputs": [
        {
          "output_type": "execute_result",
          "data": {
            "text/plain": [
              "tensor([[1, 2, 3],\n",
              "        [4, 5, 6]])"
            ]
          },
          "metadata": {},
          "execution_count": 11
        }
      ]
    },
    {
      "cell_type": "code",
      "metadata": {
        "id": "JRs1t3wDgUWY"
      },
      "source": [
        "x = torch.ones([2, 4], dtype=torch.float64)"
      ],
      "execution_count": null,
      "outputs": []
    },
    {
      "cell_type": "code",
      "metadata": {
        "colab": {
          "base_uri": "https://localhost:8080/"
        },
        "id": "0Z5m-CI6gnI4",
        "outputId": "6198fb5d-aaa2-46ec-8ef1-571d91b58435"
      },
      "source": [
        "print(x, x.shape)"
      ],
      "execution_count": null,
      "outputs": [
        {
          "output_type": "stream",
          "name": "stdout",
          "text": [
            "tensor([[1., 1., 1., 1.],\n",
            "        [1., 1., 1., 1.]], dtype=torch.float64) torch.Size([2, 4])\n"
          ]
        }
      ]
    },
    {
      "cell_type": "code",
      "metadata": {
        "colab": {
          "base_uri": "https://localhost:8080/"
        },
        "id": "SHsUa16OgsB6",
        "outputId": "f20e1116-f58b-4e45-d77f-f0b16e1ccade"
      },
      "source": [
        "# Random initialization \n",
        "y = torch.rand([2,5])\n",
        "y"
      ],
      "execution_count": null,
      "outputs": [
        {
          "output_type": "execute_result",
          "data": {
            "text/plain": [
              "tensor([[0.3636, 0.0370, 0.3393, 0.2270, 0.0730],\n",
              "        [0.9129, 0.7297, 0.1648, 0.9730, 0.9311]])"
            ]
          },
          "metadata": {},
          "execution_count": 14
        }
      ]
    },
    {
      "cell_type": "code",
      "metadata": {
        "colab": {
          "base_uri": "https://localhost:8080/"
        },
        "id": "HO_92aesgxG3",
        "outputId": "2f63d02f-e0ec-4640-9455-b7ca5111ee2f"
      },
      "source": [
        "# Flatten a 2x5 to a 1x10\n",
        "y.view([1,10]) #equivalent to reshape on numpy "
      ],
      "execution_count": null,
      "outputs": [
        {
          "output_type": "execute_result",
          "data": {
            "text/plain": [
              "tensor([[0.3636, 0.0370, 0.3393, 0.2270, 0.0730, 0.9129, 0.7297, 0.1648, 0.9730,\n",
              "         0.9311]])"
            ]
          },
          "metadata": {},
          "execution_count": 15
        }
      ]
    },
    {
      "cell_type": "code",
      "metadata": {
        "colab": {
          "base_uri": "https://localhost:8080/"
        },
        "id": "j-7GKmolhEn3",
        "outputId": "99874a08-4204-4d20-faf5-d1586c46219e"
      },
      "source": [
        "# y.view doesn't modify y \n",
        "y"
      ],
      "execution_count": null,
      "outputs": [
        {
          "output_type": "execute_result",
          "data": {
            "text/plain": [
              "tensor([[0.3636, 0.0370, 0.3393, 0.2270, 0.0730],\n",
              "        [0.9129, 0.7297, 0.1648, 0.9730, 0.9311]])"
            ]
          },
          "metadata": {},
          "execution_count": 16
        }
      ]
    },
    {
      "cell_type": "code",
      "metadata": {
        "id": "D-I8etmGhGtU"
      },
      "source": [
        "# To modify  : \n",
        "y = y.view([1,10])"
      ],
      "execution_count": null,
      "outputs": []
    },
    {
      "cell_type": "code",
      "metadata": {
        "colab": {
          "base_uri": "https://localhost:8080/"
        },
        "id": "DyIlFa_miDvt",
        "outputId": "37e83e07-eb1c-4052-9b92-e977c2dc7cdd"
      },
      "source": [
        "pip install torchvision "
      ],
      "execution_count": null,
      "outputs": [
        {
          "output_type": "stream",
          "name": "stdout",
          "text": [
            "Requirement already satisfied: torchvision in /usr/local/lib/python3.7/dist-packages (0.11.1+cu111)\n",
            "Requirement already satisfied: numpy in /usr/local/lib/python3.7/dist-packages (from torchvision) (1.19.5)\n",
            "Requirement already satisfied: pillow!=8.3.0,>=5.3.0 in /usr/local/lib/python3.7/dist-packages (from torchvision) (7.1.2)\n",
            "Requirement already satisfied: torch==1.10.0 in /usr/local/lib/python3.7/dist-packages (from torchvision) (1.10.0+cu111)\n",
            "Requirement already satisfied: typing-extensions in /usr/local/lib/python3.7/dist-packages (from torch==1.10.0->torchvision) (3.10.0.2)\n"
          ]
        }
      ]
    },
    {
      "cell_type": "code",
      "metadata": {
        "id": "glbEzOMhiPXf"
      },
      "source": [
        "import torchvision  # has a lot of vision data \n",
        "from torchvision import transforms, datasets"
      ],
      "execution_count": null,
      "outputs": []
    },
    {
      "cell_type": "markdown",
      "metadata": {
        "id": "CM539ETof7hS"
      },
      "source": [
        "### Getting the data"
      ]
    },
    {
      "cell_type": "code",
      "metadata": {
        "id": "kOeWG8H8ilaS"
      },
      "source": [
        "train = datasets.MNIST(\"\", train=True, download = True, \n",
        "                       transform = transforms.Compose([transforms.ToTensor()]))\n",
        "\n",
        "#out of sample testing data \n",
        "test = datasets.MNIST(\"\", train=False, download = True, \n",
        "                       transform = transforms.Compose([transforms.ToTensor()]))"
      ],
      "execution_count": null,
      "outputs": []
    },
    {
      "cell_type": "code",
      "metadata": {
        "id": "VeBdahHJlFNS"
      },
      "source": [
        "trainset = torch.utils.data.DataLoader(train, batch_size=10, shuffle = True)\n",
        "testset = torch.utils.data.DataLoader(test, batch_size=10, shuffle = True)"
      ],
      "execution_count": null,
      "outputs": []
    },
    {
      "cell_type": "code",
      "metadata": {
        "id": "sS214f-mli0U"
      },
      "source": [
        "# batch_size refers to the number of training examples utilized in one iteration.\n",
        "# batch_size, shuffle : the objective is to to build of NN that can generalise to unseen data "
      ],
      "execution_count": null,
      "outputs": []
    },
    {
      "cell_type": "code",
      "metadata": {
        "colab": {
          "base_uri": "https://localhost:8080/"
        },
        "id": "0swEYVDcmA79",
        "outputId": "71da2f37-dadd-4b04-b1dc-b0696912870e"
      },
      "source": [
        "for data in trainset:\n",
        "  print(data) \n",
        "  break \n",
        "  # an entire batch : 10 example"
      ],
      "execution_count": null,
      "outputs": [
        {
          "output_type": "stream",
          "name": "stdout",
          "text": [
            "[tensor([[[[0., 0., 0.,  ..., 0., 0., 0.],\n",
            "          [0., 0., 0.,  ..., 0., 0., 0.],\n",
            "          [0., 0., 0.,  ..., 0., 0., 0.],\n",
            "          ...,\n",
            "          [0., 0., 0.,  ..., 0., 0., 0.],\n",
            "          [0., 0., 0.,  ..., 0., 0., 0.],\n",
            "          [0., 0., 0.,  ..., 0., 0., 0.]]],\n",
            "\n",
            "\n",
            "        [[[0., 0., 0.,  ..., 0., 0., 0.],\n",
            "          [0., 0., 0.,  ..., 0., 0., 0.],\n",
            "          [0., 0., 0.,  ..., 0., 0., 0.],\n",
            "          ...,\n",
            "          [0., 0., 0.,  ..., 0., 0., 0.],\n",
            "          [0., 0., 0.,  ..., 0., 0., 0.],\n",
            "          [0., 0., 0.,  ..., 0., 0., 0.]]],\n",
            "\n",
            "\n",
            "        [[[0., 0., 0.,  ..., 0., 0., 0.],\n",
            "          [0., 0., 0.,  ..., 0., 0., 0.],\n",
            "          [0., 0., 0.,  ..., 0., 0., 0.],\n",
            "          ...,\n",
            "          [0., 0., 0.,  ..., 0., 0., 0.],\n",
            "          [0., 0., 0.,  ..., 0., 0., 0.],\n",
            "          [0., 0., 0.,  ..., 0., 0., 0.]]],\n",
            "\n",
            "\n",
            "        ...,\n",
            "\n",
            "\n",
            "        [[[0., 0., 0.,  ..., 0., 0., 0.],\n",
            "          [0., 0., 0.,  ..., 0., 0., 0.],\n",
            "          [0., 0., 0.,  ..., 0., 0., 0.],\n",
            "          ...,\n",
            "          [0., 0., 0.,  ..., 0., 0., 0.],\n",
            "          [0., 0., 0.,  ..., 0., 0., 0.],\n",
            "          [0., 0., 0.,  ..., 0., 0., 0.]]],\n",
            "\n",
            "\n",
            "        [[[0., 0., 0.,  ..., 0., 0., 0.],\n",
            "          [0., 0., 0.,  ..., 0., 0., 0.],\n",
            "          [0., 0., 0.,  ..., 0., 0., 0.],\n",
            "          ...,\n",
            "          [0., 0., 0.,  ..., 0., 0., 0.],\n",
            "          [0., 0., 0.,  ..., 0., 0., 0.],\n",
            "          [0., 0., 0.,  ..., 0., 0., 0.]]],\n",
            "\n",
            "\n",
            "        [[[0., 0., 0.,  ..., 0., 0., 0.],\n",
            "          [0., 0., 0.,  ..., 0., 0., 0.],\n",
            "          [0., 0., 0.,  ..., 0., 0., 0.],\n",
            "          ...,\n",
            "          [0., 0., 0.,  ..., 0., 0., 0.],\n",
            "          [0., 0., 0.,  ..., 0., 0., 0.],\n",
            "          [0., 0., 0.,  ..., 0., 0., 0.]]]]), tensor([7, 1, 8, 9, 5, 0, 5, 1, 0, 3])]\n"
          ]
        }
      ]
    },
    {
      "cell_type": "code",
      "metadata": {
        "id": "PF7AmEsanGEl"
      },
      "source": [
        "x, y = data # data is a tensorobject with two attributes "
      ],
      "execution_count": null,
      "outputs": []
    },
    {
      "cell_type": "code",
      "metadata": {
        "colab": {
          "base_uri": "https://localhost:8080/"
        },
        "id": "suvvEdZYnI3m",
        "outputId": "9f3936f8-8e5d-4cc1-a64a-13fc7025d6b9"
      },
      "source": [
        "img = data[0][0] # that's one image \n",
        "img.shape #that's not a valid shape for an image "
      ],
      "execution_count": null,
      "outputs": [
        {
          "output_type": "execute_result",
          "data": {
            "text/plain": [
              "torch.Size([1, 28, 28])"
            ]
          },
          "metadata": {},
          "execution_count": 25
        }
      ]
    },
    {
      "cell_type": "code",
      "metadata": {
        "colab": {
          "base_uri": "https://localhost:8080/",
          "height": 281
        },
        "id": "99wW4g8In5Jk",
        "outputId": "7a463ed0-fdac-40d0-a2b4-3bd917846616"
      },
      "source": [
        "import matplotlib.pyplot as plt\n",
        "plt.imshow(img.view(28,28))"
      ],
      "execution_count": null,
      "outputs": [
        {
          "output_type": "execute_result",
          "data": {
            "text/plain": [
              "<matplotlib.image.AxesImage at 0x7f4232b3e950>"
            ]
          },
          "metadata": {},
          "execution_count": 26
        },
        {
          "output_type": "display_data",
          "data": {
            "image/png": "[encoded data removed]",
            "text/plain": [
              "<Figure size 432x288 with 1 Axes>"
            ]
          },
          "metadata": {
            "needs_background": "light"
          }
        }
      ]
    },
    {
      "cell_type": "code",
      "metadata": {
        "colab": {
          "base_uri": "https://localhost:8080/"
        },
        "id": "BLw_VV1Lon8t",
        "outputId": "9ff24256-fd87-470f-b939-ef36a343fa74"
      },
      "source": [
        "# Check if the dataset is balanced \n",
        "\n",
        "total = 0 \n",
        "counter_dict = {0:0,1:0,2:0,3:0,4:0,5:0,6:0,7:0,8:0, 9:0}\n",
        "\n",
        "for data in trainset:\n",
        "  xs, ys = data \n",
        "  for y in ys :\n",
        "    counter_dict[int(y)] +=1\n",
        "  total += 1\n",
        "\n",
        "print(counter_dict)"
      ],
      "execution_count": null,
      "outputs": [
        {
          "output_type": "stream",
          "name": "stdout",
          "text": [
            "{0: 5923, 1: 6742, 2: 5958, 3: 6131, 4: 5842, 5: 5421, 6: 5918, 7: 6265, 8: 5851, 9: 5949}\n"
          ]
        }
      ]
    },
    {
      "cell_type": "code",
      "metadata": {
        "colab": {
          "base_uri": "https://localhost:8080/"
        },
        "id": "txwdvK_fpFEx",
        "outputId": "8306d21f-97c0-4ec2-82ed-67ec1229fd57"
      },
      "source": [
        "# Compute proportions \n",
        "for i in counter_dict:\n",
        "  print(f\"{i}:{counter_dict[i]/total}\")"
      ],
      "execution_count": null,
      "outputs": [
        {
          "output_type": "stream",
          "name": "stdout",
          "text": [
            "0:0.9871666666666666\n",
            "1:1.1236666666666666\n",
            "2:0.993\n",
            "3:1.0218333333333334\n",
            "4:0.9736666666666667\n",
            "5:0.9035\n",
            "6:0.9863333333333333\n",
            "7:1.0441666666666667\n",
            "8:0.9751666666666666\n",
            "9:0.9915\n"
          ]
        }
      ]
    },
    {
      "cell_type": "markdown",
      "metadata": {
        "id": "XLegR3rBNHWo"
      },
      "source": [
        "## Let's build the Neural Network "
      ]
    },
    {
      "cell_type": "code",
      "metadata": {
        "id": "Jbr6A3smp1nl"
      },
      "source": [
        "import torch.nn as nn \n",
        "import torch.nn.functional as F #pass parameters "
      ],
      "execution_count": null,
      "outputs": []
    },
    {
      "cell_type": "code",
      "metadata": {
        "colab": {
          "base_uri": "https://localhost:8080/"
        },
        "id": "WHhNK6nsMxCq",
        "outputId": "820b7f1f-0838-487c-c0b2-bfaf9cee577e"
      },
      "source": [
        "class Net(nn.Module):\n",
        "  def __init__(self):\n",
        "    super().__init__()\n",
        "    self.fc1 = nn.Linear(28*28, 64)\n",
        "    self.fc2 = nn.Linear(64, 64)\n",
        "    self.fc3 = nn.Linear(64, 64)\n",
        "    self.fc4 = nn.Linear(64, 10) #10, nb of classes \n",
        "  \n",
        "  def forward(self, x): # How the data flows in the network \n",
        "    x = F.relu(self.fc1(x)) # is the neuron firing ? \n",
        "    x = F.relu(self.fc2(x))\n",
        "    x = F.relu(self.fc3(x))\n",
        "    x = self.fc4(x) \n",
        "    return F.log_softmax(x, dim=1)\n",
        "\n",
        "net = Net()\n",
        "print(net)"
      ],
      "execution_count": null,
      "outputs": [
        {
          "output_type": "stream",
          "name": "stdout",
          "text": [
            "Net(\n",
            "  (fc1): Linear(in_features=784, out_features=64, bias=True)\n",
            "  (fc2): Linear(in_features=64, out_features=64, bias=True)\n",
            "  (fc3): Linear(in_features=64, out_features=64, bias=True)\n",
            "  (fc4): Linear(in_features=64, out_features=10, bias=True)\n",
            ")\n"
          ]
        }
      ]
    },
    {
      "cell_type": "code",
      "metadata": {
        "id": "jZ2fT1OVd2yg"
      },
      "source": [
        "X = torch.rand((28,28)) #generate a random image \n",
        "X = X.view(-1,28*28) "
      ],
      "execution_count": null,
      "outputs": []
    },
    {
      "cell_type": "code",
      "metadata": {
        "colab": {
          "base_uri": "https://localhost:8080/"
        },
        "id": "IecxzgFCeMgD",
        "outputId": "31fe4f7f-7bab-4cc6-e21b-0660bdf63608"
      },
      "source": [
        "#let's pass it to the Neural Network \n",
        "output = net(X)\n",
        "output"
      ],
      "execution_count": null,
      "outputs": [
        {
          "output_type": "stream",
          "name": "stderr",
          "text": [
            "/usr/local/lib/python3.7/dist-packages/ipykernel_launcher.py:15: UserWarning: Implicit dimension choice for log_softmax has been deprecated. Change the call to include dim=X as an argument.\n",
            "  from ipykernel import kernelapp as app\n"
          ]
        },
        {
          "output_type": "execute_result",
          "data": {
            "text/plain": [
              "tensor([[-2.2679, -2.4245, -2.2567, -2.1958, -2.2773, -2.3585, -2.3661, -2.3445,\n",
              "         -2.2660, -2.2888]], grad_fn=<LogSoftmaxBackward0>)"
            ]
          },
          "metadata": {},
          "execution_count": 39
        }
      ]
    },
    {
      "cell_type": "markdown",
      "metadata": {
        "id": "y-ncsy_CfTiF"
      },
      "source": [
        "### Train the network\n",
        "\n",
        "In this part, we adjust the parameters of the network (weights and bias) that optimize the loss"
      ]
    },
    {
      "cell_type": "code",
      "metadata": {
        "colab": {
          "base_uri": "https://localhost:8080/"
        },
        "id": "fxlh08qZfRjW",
        "outputId": "ef0d870b-842f-468d-af8b-b30e60a81067"
      },
      "source": [
        "import torch.optim as optim \n",
        "\n",
        "optimizer = optim.Adam(net.parameters(), lr = 0.001)\n",
        "#decaying learning rate \n",
        "\n",
        "EPOCHS = 3\n",
        "\n",
        "for epoch in range(EPOCHS):\n",
        "  for data in trainset:\n",
        "    # data is a batch of featuresets and lavels\n",
        "    X, y = data\n",
        "    net.zero_grad()\n",
        "   # zero_grad() restarts looping without losses from the last step if you use the gradient method for decreasing the error (or losses). \n",
        "   # If you do not use zero_grad() the loss will increase not decrease as required.\n",
        "    output = net(X.view(-1,28*28))\n",
        "    loss = F.nll_loss(output, y)\n",
        "    loss.backward()\n",
        "    optimizer.step() #adjusting the weights\n",
        "  print(loss)"
      ],
      "execution_count": null,
      "outputs": [
        {
          "output_type": "stream",
          "name": "stderr",
          "text": [
            "/usr/local/lib/python3.7/dist-packages/ipykernel_launcher.py:15: UserWarning: Implicit dimension choice for log_softmax has been deprecated. Change the call to include dim=X as an argument.\n",
            "  from ipykernel import kernelapp as app\n"
          ]
        },
        {
          "output_type": "stream",
          "name": "stdout",
          "text": [
            "tensor(0.1641, grad_fn=<NllLossBackward0>)\n",
            "tensor(0.0420, grad_fn=<NllLossBackward0>)\n",
            "tensor(0.0411, grad_fn=<NllLossBackward0>)\n"
          ]
        }
      ]
    },
    {
      "cell_type": "markdown",
      "metadata": {
        "id": "P53w0o9qg-8l"
      },
      "source": [
        "**Notes** : \n",
        "- Adam is an adaptive learning rate optimization algorithm that’s been designed specifically for training deep neural networks."
      ]
    },
    {
      "cell_type": "markdown",
      "metadata": {
        "id": "GMsmJXw4heg0"
      },
      "source": [
        "Implements Adam algorithm.\n",
        "\n",
        "\\begin{aligned} &\\rule{110mm}{0.4pt} \\\\ &\\textbf{input} : \\gamma \\text{ (lr)}, \\beta_1, \\beta_2 \\text{ (betas)},\\theta_0 \\text{ (params)},f(\\theta) \\text{ (objective)} \\\\ &\\hspace{13mm} \\lambda \\text{ (weight decay)}, \\: amsgrad \\\\ &\\textbf{initialize} : m_0 \\leftarrow 0 \\text{ ( first moment)}, v_0\\leftarrow 0 \\text{ (second moment)},\\: \\widehat{v_0}^{max}\\leftarrow 0\\\\[-1.ex] &\\rule{110mm}{0.4pt} \\\\ &\\textbf{for} \\: t=1 \\: \\textbf{to} \\: \\ldots \\: \\textbf{do} \\\\ &\\hspace{5mm}g_t \\leftarrow \\nabla_{\\theta} f_t (\\theta_{t-1}) \\\\ &\\hspace{5mm}\\textbf{if} \\: \\lambda \\neq 0 \\\\ &\\hspace{10mm} g_t \\leftarrow g_t + \\lambda \\theta_{t-1} \\\\ &\\hspace{5mm}m_t \\leftarrow \\beta_1 m_{t-1} + (1 - \\beta_1) g_t \\\\ &\\hspace{5mm}v_t \\leftarrow \\beta_2 v_{t-1} + (1-\\beta_2) g^2_t \\\\ &\\hspace{5mm}\\widehat{m_t} \\leftarrow m_t/\\big(1-\\beta_1^t \\big) \\\\ &\\hspace{5mm}\\widehat{v_t} \\leftarrow v_t/\\big(1-\\beta_2^t \\big) \\\\ &\\hspace{5mm}\\textbf{if} \\: amsgrad \\\\ &\\hspace{10mm}\\widehat{v_t}^{max} \\leftarrow \\mathrm{max}(\\widehat{v_t}^{max}, \\widehat{v_t}) \\\\ &\\hspace{10mm}\\theta_t \\leftarrow \\theta_{t-1} - \\gamma \\widehat{m_t}/ \\big(\\sqrt{\\widehat{v_t}^{max}} + \\epsilon \\big) \\\\ &\\hspace{5mm}\\textbf{else} \\\\ &\\hspace{10mm}\\theta_t \\leftarrow \\theta_{t-1} - \\gamma \\widehat{m_t}/ \\big(\\sqrt{\\widehat{v_t}} + \\epsilon \\big) \\\\ &\\rule{110mm}{0.4pt} \\\\[-1.ex] &\\bf{return} \\: \\theta_t \\\\[-1.ex] &\\rule{110mm}{0.4pt} \\\\[-1.ex] \\end{aligned}\n"
      ]
    },
    {
      "cell_type": "code",
      "metadata": {
        "colab": {
          "base_uri": "https://localhost:8080/"
        },
        "id": "fhtq7fjcqXJa",
        "outputId": "238909d6-f5d6-4cc9-ff66-a5d2a46b91ab"
      },
      "source": [
        "correct = 0 \n",
        "total = 0 \n",
        "\n",
        "with torch.no_grad():\n",
        "  for data in trainset:\n",
        "    X, y = data \n",
        "    output = net(X.view(-1,784))\n",
        "    for idx, i in enumerate(output):\n",
        "      if torch.argmax(i) == y[idx]:\n",
        "        correct +=1\n",
        "      total += 1\n",
        "print(\"Accuracy:\", round(correct/total, 3))\n"
      ],
      "execution_count": null,
      "outputs": [
        {
          "output_type": "stream",
          "name": "stderr",
          "text": [
            "/usr/local/lib/python3.7/dist-packages/ipykernel_launcher.py:15: UserWarning: Implicit dimension choice for log_softmax has been deprecated. Change the call to include dim=X as an argument.\n",
            "  from ipykernel import kernelapp as app\n"
          ]
        },
        {
          "output_type": "stream",
          "name": "stdout",
          "text": [
            "Accuracy: 0.979\n"
          ]
        }
      ]
    },
    {
      "cell_type": "code",
      "metadata": {
        "colab": {
          "base_uri": "https://localhost:8080/",
          "height": 281
        },
        "id": "RRb6Qo1qr2ax",
        "outputId": "0b297567-7ee3-454b-f335-80e5f3f6fd42"
      },
      "source": [
        "import matplotlib.pyplot as plt\n",
        "plt.imshow(X[0].view(28,28))\n",
        "plt.show"
      ],
      "execution_count": null,
      "outputs": [
        {
          "output_type": "execute_result",
          "data": {
            "text/plain": [
              "<function matplotlib.pyplot.show>"
            ]
          },
          "metadata": {},
          "execution_count": 50
        },
        {
          "output_type": "display_data",
          "data": {
            "image/png": "[encoded data removed]",
            "text/plain": [
              "<Figure size 432x288 with 1 Axes>"
            ]
          },
          "metadata": {
            "needs_background": "light"
          }
        }
      ]
    },
    {
      "cell_type": "code",
      "metadata": {
        "colab": {
          "base_uri": "https://localhost:8080/"
        },
        "id": "58BvGMoUsBTX",
        "outputId": "ffb0a96a-cf66-4047-8167-f1dffc483e6f"
      },
      "source": [
        "print(torch.argmax(net(X[0].view(-1,784))))"
      ],
      "execution_count": null,
      "outputs": [
        {
          "output_type": "stream",
          "name": "stdout",
          "text": [
            "tensor(9)\n"
          ]
        },
        {
          "output_type": "stream",
          "name": "stderr",
          "text": [
            "/usr/local/lib/python3.7/dist-packages/ipykernel_launcher.py:15: UserWarning: Implicit dimension choice for log_softmax has been deprecated. Change the call to include dim=X as an argument.\n",
            "  from ipykernel import kernelapp as app\n"
          ]
        }
      ]
    },
    {
      "cell_type": "code",
      "metadata": {
        "colab": {
          "base_uri": "https://localhost:8080/",
          "height": 335
        },
        "id": "xoZ7CNTtsMtg",
        "outputId": "44a5e84a-c8f0-478e-bd94-a183ade03757"
      },
      "source": [
        "plt.imshow(X[3].view(28,28))\n",
        "plt.show\n",
        "print(torch.argmax(net(X[3].view(-1,784))))"
      ],
      "execution_count": null,
      "outputs": [
        {
          "output_type": "stream",
          "name": "stdout",
          "text": [
            "tensor(4)\n"
          ]
        },
        {
          "output_type": "stream",
          "name": "stderr",
          "text": [
            "/usr/local/lib/python3.7/dist-packages/ipykernel_launcher.py:15: UserWarning: Implicit dimension choice for log_softmax has been deprecated. Change the call to include dim=X as an argument.\n",
            "  from ipykernel import kernelapp as app\n"
          ]
        },
        {
          "output_type": "display_data",
          "data": {
            "image/png": "[encoded data removed]",
            "text/plain": [
              "<Figure size 432x288 with 1 Axes>"
            ]
          },
          "metadata": {
            "needs_background": "light"
          }
        }
      ]
    }
  ]
}